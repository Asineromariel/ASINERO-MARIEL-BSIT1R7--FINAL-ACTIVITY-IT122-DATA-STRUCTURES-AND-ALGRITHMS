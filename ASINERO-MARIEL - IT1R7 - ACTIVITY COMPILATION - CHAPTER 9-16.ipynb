{
 "cells": [
  {
   "cell_type": "code",
   "execution_count": 5,
   "id": "370d471f-f046-49d4-8394-9ccb72f954d2",
   "metadata": {},
   "outputs": [
    {
     "name": "stdout",
     "output_type": "stream",
     "text": [
      "Discuss your learnings on from Chapter 9 to Chapter 17\n",
      "\n",
      "Chapter 9 Learnings:\n",
      "\n",
      "I learned about two kinds of graphs: directed and undirected, where directed has a direction in how the nodes in the graph are connected and undirected has no direction in how the nodes in the graph are connected\n",
      "Each node can be a structure that contains information like user’s ID, name, address, gender, contact and many more. There are 2 types of graphs: Directed and Undirected graph.\n",
      "Graphs are used to solve real-life problems that involve representation of the problem space as a network such as telephone networks and social networks\n"
     ]
    }
   ],
   "source": [
    "print(\"Discuss your learnings on from Chapter 9 to Chapter 17\")\n",
    "print(\"\")\n",
    "print(\"Chapter 9 Learnings:\")\n",
    "print(\"\")\n",
    "print(\"I learned about two kinds of graphs: directed and undirected, where directed has a direction in how the nodes in the graph are connected and undirected has no direction in how the nodes in the graph are connected\")\n",
    "print(\"Each node can be a structure that contains information like user’s ID, name, address, gender, contact and many more. There are 2 types of graphs: Directed and Undirected graph.\")\n",
    "print(\"Graphs are used to solve real-life problems that involve representation of the problem space as a network such as telephone networks and social networks\")"
   ]
  },
  {
   "cell_type": "code",
   "execution_count": 8,
   "id": "39352ed1-acc9-423a-9af7-2fa2dad4d937",
   "metadata": {},
   "outputs": [
    {
     "name": "stdout",
     "output_type": "stream",
     "text": [
      "Chapter 10 Learnings:\n",
      "\n",
      "I figure it out A typical search algorithm that can locate an object in log(n) time is binary search. Search a sorted list by splitting the search time in half repeatedly. Begin with an interval that spans the whole collection. If the search key value is less than the object in the interval&#39;s centre, narrow the interval to the lower half. Otherwise, limit it to the top fifth. Repeatedly check until the value is found or the interval is empty.\n",
      "\n"
     ]
    }
   ],
   "source": [
    "print(\"Chapter 10 Learnings:\")\n",
    "print(\"\")\n",
    "print(\"I figure it out A typical search algorithm that can locate an object in log(n) time is binary search. Search a sorted list by splitting the search time in half repeatedly. Begin with an interval that spans the whole collection. If the search key value is less than the object in the interval&#39;s centre, narrow the interval to the lower half. Otherwise, limit it to the top fifth. Repeatedly check until the value is found or the interval is empty.\")\n",
    "print(\"\")"
   ]
  },
  {
   "cell_type": "code",
   "execution_count": 9,
   "id": "5ab877ba-ab4c-40c6-a249-6992ebbfaa13",
   "metadata": {},
   "outputs": [
    {
     "name": "stdout",
     "output_type": "stream",
     "text": [
      "Chapter 11 Learnings:\n",
      "\n",
      "I'm learning A bubble sort is a kind of sorting technique that is used to sort a list or an array. This technique is covered as the most effective techniques for conducting sorting in data structures and algorithm tutorials.\n",
      "If the given array has to be sorted in ascending order, then bubble sort will start by comparing the first element, if the first element is greater than the second element, it will swap both the elements, and then move on to compare the second and the third element and so on.\n"
     ]
    }
   ],
   "source": [
    "print(\"Chapter 11 Learnings:\")\n",
    "print(\"\")\n",
    "print(\"I'm learning A bubble sort is a kind of sorting technique that is used to sort a list or an array. This technique is covered as the most effective techniques for conducting sorting in data structures and algorithm tutorials.\")\n",
    "print(\"If the given array has to be sorted in ascending order, then bubble sort will start by comparing the first element, if the first element is greater than the second element, it will swap both the elements, and then move on to compare the second and the third element and so on.\")"
   ]
  },
  {
   "cell_type": "code",
   "execution_count": 11,
   "id": "091b9c6e-34f6-4fbf-b7b9-67944522e1b7",
   "metadata": {},
   "outputs": [
    {
     "name": "stdout",
     "output_type": "stream",
     "text": [
      "Chapter 12 Learnings:\n",
      "\n",
      "I discover that Tony Hoare, a British scientist, invented the Fast sort, a common sorting algorithm. This procedure divides a sufficient to assess into partitions and then recursively sorts these partitions using the divide and conquer method. It begins with a pivot element and attempts to place the pivot element in its proper position\n",
      "While dividing the array, the pivot element should be positioned in such a way that elements less than pivot are kept on the left side and elements greater than pivot are on the right side of the pivot. At this point, elements are already sorted. Finally, elements are combined to form a sorted array.\n"
     ]
    }
   ],
   "source": [
    "print(\"Chapter 12 Learnings:\")\n",
    "print(\"\")\n",
    "print(\"I discover that Tony Hoare, a British scientist, invented the Fast sort, a common sorting algorithm. This procedure divides a sufficient to assess into partitions and then recursively sorts these partitions using the divide and conquer method. It begins with a pivot element and attempts to place the pivot element in its proper position\")\n",
    "print(\"While dividing the array, the pivot element should be positioned in such a way that elements less than pivot are kept on the left side and elements greater than pivot are on the right side of the pivot. At this point, elements are already sorted. Finally, elements are combined to form a sorted array.\")"
   ]
  },
  {
   "cell_type": "code",
   "execution_count": 15,
   "id": "e2056c29-2c6e-43fb-85c4-6e389f8b49a0",
   "metadata": {},
   "outputs": [
    {
     "name": "stdout",
     "output_type": "stream",
     "text": [
      "Chapter 13 Learnings:\n",
      "\n",
      "I learned about the Insertion type, which is a basic sorting algorithm that works well for small lists. If the array is very large, insertion sort might not be the best option due to its time complexity.\n",
      "To sort an array of size n in ascending order:\n",
      "\n",
      "1: Iterate from arr[1] to arr[n] over the array.\n",
      "2: Compare the current element (key) to its predecessor.\n",
      "3: If the key element is smaller than its predecessor, compare it to the elements before. Move the greater elements one position up to make space for the swapped element.\n",
      "\n",
      "Insertion sort works similarly as we sort cards in our hand in a card game.\n"
     ]
    }
   ],
   "source": [
    "print(\"Chapter 13 Learnings:\")\n",
    "print(\"\")\n",
    "print(\"I learned about the Insertion type, which is a basic sorting algorithm that works well for small lists. If the array is very large, insertion sort might not be the best option due to its time complexity.\")\n",
    "print(\"To sort an array of size n in ascending order:\")\n",
    "print(\"\")\n",
    "print(\"1: Iterate from arr[1] to arr[n] over the array.\")\n",
    "print(\"2: Compare the current element (key) to its predecessor.\")\n",
    "print(\"3: If the key element is smaller than its predecessor, compare it to the elements before. Move the greater elements one position up to make space for the swapped element.\")\n",
    "print(\"\")\n",
    "print(\"Insertion sort works similarly as we sort cards in our hand in a card game.\")"
   ]
  },
  {
   "cell_type": "code",
   "execution_count": 16,
   "id": "45681908-8922-4374-90d5-15af81ffeacc",
   "metadata": {},
   "outputs": [
    {
     "name": "stdout",
     "output_type": "stream",
     "text": [
      "Chapter 14 Learnings:\n",
      "\n",
      "I discovered how merge sort functions and how to apply it in Python. Merge sort is a sorting algorithm with a time complexity of O(nlogn) and hence outperforms insertion sort, bubble sort, and others\n"
     ]
    }
   ],
   "source": [
    "print(\"Chapter 14 Learnings:\")\n",
    "print(\"\")\n",
    "print(\"I discovered how merge sort functions and how to apply it in Python. Merge sort is a sorting algorithm with a time complexity of O(nlogn) and hence outperforms insertion sort, bubble sort, and others\")"
   ]
  },
  {
   "cell_type": "code",
   "execution_count": 17,
   "id": "62c05315-12c4-4136-b345-395ec252b8a7",
   "metadata": {},
   "outputs": [
    {
     "name": "stdout",
     "output_type": "stream",
     "text": [
      "Chapter 15 Learnings:\n",
      "\n",
      "I discovered that the Shell kind is a variation on the insertion type. If heavy elements are at the end of an array, insertion sort necessitates several swaps and comparisons. Shell sort will begin by sorting sub arrays that are equally spaced apart. The difference is referred to as a void in this context.\n"
     ]
    }
   ],
   "source": [
    "print(\"Chapter 15 Learnings:\")\n",
    "print(\"\")\n",
    "print(\"I discovered that the Shell kind is a variation on the insertion type. If heavy elements are at the end of an array, insertion sort necessitates several swaps and comparisons. Shell sort will begin by sorting sub arrays that are equally spaced apart. The difference is referred to as a void in this context.\")"
   ]
  },
  {
   "cell_type": "code",
   "execution_count": 21,
   "id": "4403bd3c-54ce-46fa-a3a2-0b0eb97816c3",
   "metadata": {},
   "outputs": [
    {
     "name": "stdout",
     "output_type": "stream",
     "text": [
      "Chapter 16 Learnings:\n",
      "\n",
      "I discovered that the Selection sort is a basic programming technique with an o(n2) BIG O complexity.\n",
      "\n",
      "1.) The subarray which is already sorted.\n",
      "2.) Remaining subarray which is unsorted.\n",
      "\n",
      "In every iteration of selection sort, the minimum element (considering ascending order) from the unsorted subarray is picked and moved to the sorted subarray.\n"
     ]
    }
   ],
   "source": [
    "print(\"Chapter 16 Learnings:\")\n",
    "print(\"\")\n",
    "print(\"I discovered that the Selection sort is a basic programming technique with an o(n2) BIG O complexity.\")\n",
    "print(\"\")\n",
    "print(\"1.) The subarray which is already sorted.\")\n",
    "print(\"2.) Remaining subarray which is unsorted.\")\n",
    "print(\"\")\n",
    "print(\"In every iteration of selection sort, the minimum element (considering ascending order) from the unsorted subarray is picked and moved to the sorted subarray.\")"
   ]
  },
  {
   "cell_type": "code",
   "execution_count": 24,
   "id": "96569f46-4740-4889-b3fa-ee5d3db98b13",
   "metadata": {},
   "outputs": [
    {
     "name": "stdout",
     "output_type": "stream",
     "text": [
      "Chapter 17 Learnings:\n",
      "\n",
      "I discovered that recursion is a crucial principle in the world of computer science. A recursion can be used to make things better which can be broken into smaller and simplified problems.\n",
      "In simple words, recursion is a problem solving, and in some cases, a programming technique that has a very special and exclusive property. In recursion, a function or method has the ability of calling itself to solve the problem. The process of recursion involves solving a problem by turning it into smaller varieties of itself. The process in which a function calls itself could happen directly as well as indirectly. This difference in call gives rise to different types of recursion, which we will talk about a little later. Some of the problems that can be solved using recursion include DFS of Graph, Towers of Hanoi, Different Types of Tree Traversals, and others. A recursive function can go infinite like a loop.\n",
      "\n",
      "Recursion is the process in which a function calls itself directly or indirectly is called recursion and the corresponding function is called as recursive function. Using recursive algorithm, certain problems can be solved quite easily.\n"
     ]
    }
   ],
   "source": [
    "print(\"Chapter 17 Learnings:\")\n",
    "print(\"\")\n",
    "print(\"I discovered that recursion is a crucial principle in the world of computer science. A recursion can be used to make things better which can be broken into smaller and simplified problems.\")\n",
    "print(\"In simple words, recursion is a problem solving, and in some cases, a programming technique that has a very special and exclusive property. In recursion, a function or method has the ability of calling itself to solve the problem. The process of recursion involves solving a problem by turning it into smaller varieties of itself. The process in which a function calls itself could happen directly as well as indirectly. This difference in call gives rise to different types of recursion, which we will talk about a little later. Some of the problems that can be solved using recursion include DFS of Graph, Towers of Hanoi, Different Types of Tree Traversals, and others. A recursive function can go infinite like a loop.\")\n",
    "print(\"\")\n",
    "print(\"Recursion is the process in which a function calls itself directly or indirectly is called recursion and the corresponding function is called as recursive function. Using recursive algorithm, certain problems can be solved quite easily.\")"
   ]
  },
  {
   "cell_type": "code",
   "execution_count": 26,
   "id": "c593496b-d00a-4749-8d21-b6f96c095717",
   "metadata": {},
   "outputs": [
    {
     "name": "stdout",
     "output_type": "stream",
     "text": [
      "II. Answer the following questions:\n"
     ]
    }
   ],
   "source": [
    "print(\"II. Answer the following questions:\")"
   ]
  },
  {
   "cell_type": "code",
   "execution_count": 30,
   "id": "f14e5cb6-bcc8-409b-aa99-573d71e4968f",
   "metadata": {},
   "outputs": [
    {
     "name": "stdout",
     "output_type": "stream",
     "text": [
      "Implement the simple methods get_num and get_den that will return the numerator and denominator of a fraction.\n",
      "\n",
      "Numerator:  4\n",
      "Denominator:  2\n"
     ]
    }
   ],
   "source": [
    "print(\"Implement the simple methods get_num and get_den that will return the numerator and denominator of a fraction.\")\n",
    "print(\"\")\n",
    "def get_num(num1):\n",
    "    return num1\n",
    "def get_den(den1):\n",
    "    return den1\n",
    "\n",
    "num = 4\n",
    "den = 2\n",
    "\n",
    "print(\"Numerator: \",get_num(num))\n",
    "print(\"Denominator: \",get_den(den))\n"
   ]
  },
  {
   "cell_type": "code",
   "execution_count": 31,
   "id": "a9532fb3-bb23-445d-954f-8f5f225c6ac2",
   "metadata": {},
   "outputs": [
    {
     "name": "stdout",
     "output_type": "stream",
     "text": [
      "Research the __radd__ method. How does it differ from __add__? When is it used? Implement __radd__\n",
      "\n",
      "__add__ is to take an input string and then return an instance which contains the data and concatenate it while __radd__ adds the string first then the user-defined class comes next to it.\n",
      "\n",
      "<__main__.Upper object at 0x0000023B0013BC70>\n"
     ]
    }
   ],
   "source": [
    "print(\"Research the __radd__ method. How does it differ from __add__? When is it used? Implement __radd__\")\n",
    "print(\"\")\n",
    "\n",
    "print(\"__add__ is to take an input string and then return an instance which contains the data and concatenate it while __radd__ adds the string first then the user-defined class comes next to it.\")\n",
    "print(\"\")\n",
    "class Upper:\n",
    "    def __init__(self, initial):\n",
    "        self.data = initial.upper()\n",
    "    def __add__(self,other):\n",
    "        return Upper(self.data + other)\n",
    "\n",
    "u = Upper('Nani')\n",
    "\n",
    "a = u+\"Who knows\" \n",
    "\n",
    "print(a)"
   ]
  },
  {
   "cell_type": "code",
   "execution_count": 32,
   "id": "d495a31e-ad4a-4511-a89a-ba0b1ccb7eea",
   "metadata": {},
   "outputs": [
    {
     "name": "stdout",
     "output_type": "stream",
     "text": [
      "Research the __repr__ method. How does it differ from __str__? When is it used? Implement __repr__.\n",
      "\n",
      ". __repr__ goal is to be unambiguous while __str__ goal is to be readable\n",
      "\n",
      "Instance Name of class User\n"
     ]
    }
   ],
   "source": [
    "print(\"Research the __repr__ method. How does it differ from __str__? When is it used? Implement __repr__.\")\n",
    "print(\"\")\n",
    "print(\". __repr__ goal is to be unambiguous while __str__ goal is to be readable\")\n",
    "print(\"\")\n",
    "class User:\n",
    "    def __init__(self, name):\n",
    "        self.username = name\n",
    "    def __repr__(self):\n",
    "        return 'Instance {} of class User'.format(self.username)\n",
    "\n",
    "lp = User('Name')\n",
    "\n",
    "print(lp)"
   ]
  },
  {
   "cell_type": "code",
   "execution_count": 33,
   "id": "9d8f0fdd-5ae4-448c-bba9-e55c7ef5ff8a",
   "metadata": {},
   "outputs": [
    {
     "name": "stdout",
     "output_type": "stream",
     "text": [
      "The most simple arithmetic circuit is known as the half adder. Research the simple half-adder circuit. Implement this circuit.\n",
      "\n",
      "The SUM is:   88\n",
      "CARRY is:     36\n"
     ]
    }
   ],
   "source": [
    "print(\"The most simple arithmetic circuit is known as the half adder. Research the simple half-adder circuit. Implement this circuit.\")\n",
    "print(\"\")\n",
    "def getResult(X, Y):\n",
    "\tSum = X ^ Y\n",
    "\tCarry = X & Y\n",
    "\tprint(\"The SUM is:  \", Sum)\n",
    "\tprint(\"CARRY is:    \", Carry)\n",
    "\n",
    "X = 100\n",
    "Y = 60\n",
    "getResult(X, Y)"
   ]
  },
  {
   "cell_type": "code",
   "execution_count": 34,
   "id": "ad21a183-2c4e-4282-a2b5-0eaf20cbb0dd",
   "metadata": {},
   "outputs": [
    {
     "name": "stdout",
     "output_type": "stream",
     "text": [
      "Design a class to represent a playing card and another one to represent a deck of cards. Using these two classes, implement your favorite card game.\n",
      "\n"
     ]
    }
   ],
   "source": [
    "print(\"Design a class to represent a playing card and another one to represent a deck of cards. Using these two classes, implement your favorite card game.\")\n",
    "print(\"\")\n",
    "class Card(object):\n",
    "    \"\"\" Represents a standard playing card.\n",
    "    Attributes:\n",
    "        suit: Integer 0-3\n",
    "        rank: Integer 1-13\n",
    "    \"\"\"\n",
    "\n",
    "    suit_names = [\"Clubs\", \"Diamonds\", \"Hearts\", \"Spades\"]\n",
    "    rank_names = [None, \"2\", \"3\", \"4\", \"5\", \"6\", \"7\", \"8\",\n",
    "                  \"9\", \"10\", \"Jack\", \"Queen\", \"King\", \"Ace\"]\n",
    "\n",
    "    def __init__(self, suit=0, rank=1):\n",
    "        self.suit = suit\n",
    "        self.rank = rank\n",
    "\n",
    "    def __str__(self):\n",
    "        \"\"\" returns a human readable string representation \"\"\"\n",
    "        return '%s of %s' % (Card.rank_names[self.rank],\n",
    "                             Card.suit_names[self.suit])\n",
    "\n",
    "    def __lt__(self, other):\n",
    "        \"\"\" Compares this card to other, only by rank (no suit comparison)\n",
    "        Returns a positive number if this > other, negative otherwise.\n",
    "        Returns 0 if the cards are of same rank\n",
    "        \"\"\"\n",
    "        # t1 = self.rank\n",
    "        # t2 = other.rank\n",
    "        t1 = self.suit, self.rank\n",
    "        t2 = other.suit, other.rank\n",
    "        return t1 < t2\n",
    "\n",
    "    def getRank(self):\n",
    "        return self.rank"
   ]
  },
  {
   "cell_type": "code",
   "execution_count": 35,
   "id": "259305b8-3065-436c-bfbe-328c3daab8a7",
   "metadata": {},
   "outputs": [
    {
     "name": "stdout",
     "output_type": "stream",
     "text": [
      "Design and implement an experiment to do benchmark comparisons of the two queue(enqueue,dequeue) implementations. What can you learn from such an experiment?\n",
      "\n",
      "<__main__.Queue object at 0x0000023B001211F0>\n",
      "deque(['Harry', 'Hermione', 'Ron'])\n",
      "Adding to the right: \n",
      "deque(['Harry', 'Hermione', 'Ron', 'Ginny'])\n",
      "Adding to the left: \n",
      "deque(['Fred', 'Harry', 'Hermione', 'Ron', 'Ginny'])\n",
      "Removing from the right: \n",
      "deque(['Fred', 'Harry', 'Hermione', 'Ron'])\n",
      "Removing from the left: \n",
      "deque(['Harry', 'Hermione', 'Ron'])\n",
      "Reversing the deque: \n",
      "deque(['Ron', 'Hermione', 'Harry'])\n"
     ]
    }
   ],
   "source": [
    "print(\"Design and implement an experiment to do benchmark comparisons of the two queue(enqueue,dequeue) implementations. What can you learn from such an experiment?\")\n",
    "print(\"\")\n",
    "class Queue:\n",
    " \n",
    "  def __init__(self):\n",
    "      self.queue = list()\n",
    " \n",
    "  def addToQueue(self,value):\n",
    "# Insert method to add element\n",
    "      if value not in self.queue:\n",
    "          self.queue.insert(0,value)\n",
    "          return True\n",
    "      return False\n",
    " \n",
    "  def size(self):\n",
    "      return len(self.queue)\n",
    " \n",
    "MySuperHero = Queue()\n",
    "MySuperHero.addToQueue(\"Thor\")\n",
    "MySuperHero.addToQueue(\"Iron man\")\n",
    "MySuperHero.addToQueue(\"Hulk\")\n",
    "MySuperHero.addToQueue(\"Doctor Strange\")\n",
    "MySuperHero.addToQueue(\"Vision\")\n",
    "print(MySuperHero)\n",
    "\n",
    "import collections\n",
    " \n",
    "# Create a deque\n",
    "DoubleEnded = collections.deque([\"Harry\",\"Hermione\",\"Ron\"])\n",
    "print (DoubleEnded)\n",
    " \n",
    "# Append to the right\n",
    "print(\"Adding to the right: \")\n",
    "DoubleEnded.append(\"Ginny\")\n",
    "print (DoubleEnded)\n",
    " \n",
    "# append to the left\n",
    "print(\"Adding to the left: \")\n",
    "DoubleEnded.appendleft(\"Fred\")\n",
    "print (DoubleEnded)\n",
    " \n",
    "# Remove from the right\n",
    "print(\"Removing from the right: \")\n",
    "DoubleEnded.pop()\n",
    "print (DoubleEnded)\n",
    " \n",
    "# Remove from the left\n",
    "print(\"Removing from the left: \")\n",
    "DoubleEnded.popleft()\n",
    "print (DoubleEnded)\n",
    " \n",
    "# Reverse the dequeue\n",
    "print(\"Reversing the deque: \")\n",
    "DoubleEnded.reverse()\n",
    "print (DoubleEnded)\n"
   ]
  },
  {
   "cell_type": "code",
   "execution_count": 36,
   "id": "6d952028-2f2e-4ad7-a84b-d9fdb38bef5f",
   "metadata": {},
   "outputs": [
    {
     "name": "stdout",
     "output_type": "stream",
     "text": [
      "Consider a real life situation. Formulate a question and then design a simulation that can help to answer it.\n",
      "\n",
      "Road incidents. How to minimize road incidents?\n",
      "• Avoiding over-speeding and following speed limits.\n",
      "• Avoiding drunken driving.\n",
      "• Using helmets by two-wheeler drivers.\n",
      "• Using seat belts and child restraints in cars.\n",
      "• Improving visibility, appropriate headlights and road lightings.\n",
      "• Discipline  \n"
     ]
    }
   ],
   "source": [
    "print(\"Consider a real life situation. Formulate a question and then design a simulation that can help to answer it.\")\n",
    "print(\"\")\n",
    "print(\"Road incidents. How to minimize road incidents?\")\n",
    "print(\"• Avoiding over-speeding and following speed limits.\")\n",
    "print(\"• Avoiding drunken driving.\")\n",
    "print(\"• Using helmets by two-wheeler drivers.\")\n",
    "print(\"• Using seat belts and child restraints in cars.\")\n",
    "print(\"• Improving visibility, appropriate headlights and road lightings.\")\n",
    "print(\"• Discipline  \")"
   ]
  },
  {
   "cell_type": "code",
   "execution_count": 42,
   "id": "6015a69c-c45c-483d-b0e8-afa710f66fb7",
   "metadata": {},
   "outputs": [
    {
     "name": "stdout",
     "output_type": "stream",
     "text": [
      "Implement a queue using linked lists.\n",
      "\n",
      "['Mariel', 'Asinero', 'Bullicer', 'Mariel']\n",
      "Mariel\n",
      "['Asinero', 'Bullicer', 'Mariel']\n",
      "Asinero\n",
      "['Bullicer', 'Mariel']\n"
     ]
    }
   ],
   "source": [
    "print(\"Implement a queue using linked lists.\")\n",
    "print(\"\")\n",
    "queue = [\"Mariel\", \"Asinero\"]\n",
    "queue.append(\"Bullicer\")\n",
    "queue.append(\"Mariel\")\n",
    "print(queue)\n",
    "  \n",
    "# Removes the first item\n",
    "print(queue.pop(0))\n",
    "  \n",
    "print(queue)\n",
    "  \n",
    "# Removes the first item\n",
    "print(queue.pop(0))\n",
    "  \n",
    "print(queue)\n"
   ]
  },
  {
   "cell_type": "code",
   "execution_count": 39,
   "id": "68ed668b-a528-4a57-85ce-f033c3604756",
   "metadata": {},
   "outputs": [
    {
     "name": "stdout",
     "output_type": "stream",
     "text": [
      "Write a recursive function to compute the factorial of a number.\n",
      "\n",
      "The factorial of 7 is 5040\n"
     ]
    }
   ],
   "source": [
    "print(\"Write a recursive function to compute the factorial of a number.\")\n",
    "print(\"\")\n",
    "\n",
    "def recur_factorial(n):\n",
    "   if n == 1:\n",
    "       return n\n",
    "   else:\n",
    "       return n*recur_factorial(n-1)\n",
    "\n",
    "num = 7\n",
    "\n",
    "\n",
    "print(\"The factorial of\", num, \"is\", recur_factorial(num))\n"
   ]
  },
  {
   "cell_type": "code",
   "execution_count": 40,
   "id": "e30383db-cb0f-4f73-b01c-0e892b33019c",
   "metadata": {},
   "outputs": [
    {
     "name": "stdout",
     "output_type": "stream",
     "text": [
      "Set up a random experiment to test the difference between a sequential search and a binary search on a list of integers.\n",
      "\n",
      "Element is present at index 3\n",
      "(True, 3)\n"
     ]
    }
   ],
   "source": [
    "print(\"Set up a random experiment to test the difference between a sequential search and a binary search on a list of integers.\")\n",
    "print(\"\")\n",
    "def binary_search(arr, low, high, x):\n",
    " \n",
    "    # Check base case\n",
    "    if high >= low:\n",
    " \n",
    "        mid = (high + low) // 2\n",
    " \n",
    "        # If element is present at the middle itself\n",
    "        if arr[mid] == x:\n",
    "            return mid\n",
    " \n",
    "        # If element is smaller than mid, then it can only\n",
    "        # be present in left subarray\n",
    "        elif arr[mid] > x:\n",
    "            return binary_search(arr, low, mid - 1, x)\n",
    " \n",
    "        # Else the element can only be present in right subarray\n",
    "        else:\n",
    "            return binary_search(arr, mid + 1, high, x)\n",
    " \n",
    "    else:\n",
    "        # Element is not present in the array\n",
    "        return -1\n",
    " \n",
    "# Test array\n",
    "arr = [ 2, 3, 4, 10, 40 ]\n",
    "x = 10\n",
    " \n",
    "# Function call\n",
    "result = binary_search(arr, 0, len(arr)-1, x)\n",
    " \n",
    "if result != -1:\n",
    "    print(\"Element is present at index\", str(result))\n",
    "else:\n",
    "    print(\"Element is not present in array\")\n",
    "\n",
    "\n",
    "def Sequential_Search(dlist, item):\n",
    "\n",
    "    pos = 0\n",
    "    found = False\n",
    "    \n",
    "    while pos < len(dlist) and not found:\n",
    "        if dlist[pos] == item:\n",
    "            found = True\n",
    "        else:\n",
    "            pos = pos + 1\n",
    "    \n",
    "    return found, pos\n",
    "\n",
    "print(Sequential_Search([11,23,58,31,56,77,43,12,65,19],31))\n"
   ]
  },
  {
   "cell_type": "code",
   "execution_count": 41,
   "id": "76d97974-8677-49cc-8ae0-cd05692df76b",
   "metadata": {},
   "outputs": [
    {
     "name": "stdout",
     "output_type": "stream",
     "text": [
      "Suppose you are a computer scientist/art thief who has broken into a major art gallery. All you have with you to haul out your stolen art is your knapsack which only holds W pounds of art, but for every piece of art you know its value and its weight. Write a dynamic programming function to help you maximize your profit. Here is a sample problem for you to use to get started: Suppose your knapsack can hold a total weight of 20. \n",
      "\n",
      "8\n"
     ]
    }
   ],
   "source": [
    "print(\"Suppose you are a computer scientist/art thief who has broken into a major art gallery. All you have with you to haul out your stolen art is your knapsack which only holds W pounds of art, but for every piece of art you know its value and its weight. Write a dynamic programming function to help you maximize your profit. Here is a sample problem for you to use to get started: Suppose your knapsack can hold a total weight of 20. \")\n",
    "print(\"\")\n",
    "def knapSack(W, wt, val, n):\n",
    "\n",
    "\t# Base Case\n",
    "\tif n == 0 or W == 0:\n",
    "\t\treturn 0\n",
    "\n",
    "\t# If weight of the nth item is\n",
    "\t# more than Knapsack of capacity W,\n",
    "\t# then this item cannot be included\n",
    "\t# in the optimal solution\n",
    "\tif (wt[n-1] > W):\n",
    "\t\treturn knapSack(W, wt, val, n-1)\n",
    "\n",
    "\t# return the maximum of two cases:\n",
    "\t# (1) nth item included\n",
    "\t# (2) not included\n",
    "\telse:\n",
    "\t\treturn max(\n",
    "\t\t\tval[n-1] + knapSack(\n",
    "\t\t\t\tW-wt[n-1], wt, val, n-1),\n",
    "\t\t\tknapSack(W, wt, val, n-1))\n",
    "\n",
    "# end of function knapSack\n",
    "\n",
    "\n",
    "#Driver Code\n",
    "val = [3, 4, 8,8,10]\n",
    "wt = [2, 3, 4,5,9]\n",
    "W = 5\n",
    "n = len(val)\n",
    "print (knapSack(W, wt, val, n))\n",
    "\n",
    "# This code is contributed by Nikhil Kumar Singh\n"
   ]
  },
  {
   "cell_type": "code",
   "execution_count": null,
   "id": "bfc47424-7fe5-4816-a136-3a248d8334a1",
   "metadata": {},
   "outputs": [],
   "source": []
  }
 ],
 "metadata": {
  "kernelspec": {
   "display_name": "Python 3",
   "language": "python",
   "name": "python3"
  },
  "language_info": {
   "codemirror_mode": {
    "name": "ipython",
    "version": 3
   },
   "file_extension": ".py",
   "mimetype": "text/x-python",
   "name": "python",
   "nbconvert_exporter": "python",
   "pygments_lexer": "ipython3",
   "version": "3.9.5"
  }
 },
 "nbformat": 4,
 "nbformat_minor": 5
}
